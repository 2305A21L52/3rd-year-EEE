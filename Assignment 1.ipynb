{
  "nbformat": 4,
  "nbformat_minor": 0,
  "metadata": {
    "colab": {
      "provenance": [],
      "include_colab_link": true
    },
    "kernelspec": {
      "name": "python3",
      "display_name": "Python 3"
    },
    "language_info": {
      "name": "python"
    }
  },
  "cells": [
    {
      "cell_type": "markdown",
      "metadata": {
        "id": "view-in-github",
        "colab_type": "text"
      },
      "source": [
        "<a href=\"https://colab.research.google.com/github/2305A21L52/3rd-year-EEE/blob/main/Assignment%201.ipynb\" target=\"_parent\"><img src=\"https://colab.research.google.com/assets/colab-badge.svg\" alt=\"Open In Colab\"/></a>"
      ]
    },
    {
      "cell_type": "code",
      "source": [
        "rating=input(\"Enter transformer rating in VA\")\n",
        "core=input(\"Enter transformer core losses in watts\")\n",
        "fcl=input(\"Enter transformer full load copper losses in watts\")\n",
        "pf=input(\"Enter Transformer power factor\")\n",
        "k=input(\"Transformer loading\")\n",
        "\n",
        "output=float(k)*float(rating)*float(pf)\n",
        "cl=(float(k)**2)*float(fcl)\n",
        "eff=(output*100)/(output+float(core)+cl)\n",
        "\n",
        "\n",
        "print(\"Rating of the Transformer=\",float(rating),\"VA\")\n",
        "print(\"Core losses of transformer=\",float(core),\"W\")\n",
        "print(\"Full load copper losses of transformer=\",float(fcl),\"W\")\n",
        "print(\"Power factor=\",float(pf))\n",
        "print(\"Transformer loading=\",float(k))\n",
        "\n",
        "print(\"Copper losses=\",cl,\"W\")\n",
        "print(\"Efficiency=\",eff,\"%\")"
      ],
      "metadata": {
        "colab": {
          "base_uri": "https://localhost:8080/"
        },
        "id": "iytscnG7lotx",
        "outputId": "98fe368e-f3b1-4ea8-e3ef-016a9b904a1f"
      },
      "execution_count": null,
      "outputs": [
        {
          "output_type": "stream",
          "name": "stdout",
          "text": [
            "Enter transformer rating in VA100\n",
            "Enter transformer core losses in watts25\n",
            "Enter transformer full load copper losses in watts50\n",
            "Enter Transformer power factor0.9\n",
            "Transformer loading0.25\n",
            "Rating of the Transformer= 100.0 VA\n",
            "Core losses of transformer= 25.0 W\n",
            "Full load copper losses of transformer= 50.0 W\n",
            "Power factor= 0.9\n",
            "Transformer loading= 0.25\n",
            "Copper losses= 3.125 W\n",
            "Efficiency= 44.44444444444444 %\n"
          ]
        }
      ]
    }
  ]
}