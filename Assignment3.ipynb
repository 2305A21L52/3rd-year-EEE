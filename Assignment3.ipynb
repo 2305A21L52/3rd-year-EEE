{
  "nbformat": 4,
  "nbformat_minor": 0,
  "metadata": {
    "colab": {
      "provenance": [],
      "authorship_tag": "ABX9TyMzEkK1SZJ+hYYfZmpLHeY1",
      "include_colab_link": true
    },
    "kernelspec": {
      "name": "python3",
      "display_name": "Python 3"
    },
    "language_info": {
      "name": "python"
    }
  },
  "cells": [
    {
      "cell_type": "markdown",
      "metadata": {
        "id": "view-in-github",
        "colab_type": "text"
      },
      "source": [
        "<a href=\"https://colab.research.google.com/github/2305A21L52/3rd-year-EEE/blob/main/Assignment3.ipynb\" target=\"_parent\"><img src=\"https://colab.research.google.com/assets/colab-badge.svg\" alt=\"Open In Colab\"/></a>"
      ]
    },
    {
      "cell_type": "code",
      "execution_count": 1,
      "metadata": {
        "colab": {
          "base_uri": "https://localhost:8080/"
        },
        "id": "2i4KnQROPo9R",
        "outputId": "f9ccee06-2fff-47ef-cf83-38b87ec182df"
      },
      "outputs": [
        {
          "output_type": "stream",
          "name": "stdout",
          "text": [
            "enter the load value1\n",
            "193.6 133.67309875319802\n",
            "0.8518399999999998 0.48206011243412356\n",
            "efficiency and copper losses are : 86.95652173913044 500.0\n"
          ]
        }
      ],
      "source": [
        "import pff as ef\n",
        "import math\n",
        "v0=220\n",
        "i0=2\n",
        "w0=250\n",
        "r=5000\n",
        "pf=1\n",
        "v1=220\n",
        "v2=440\n",
        "isc=10\n",
        "vsc=75\n",
        "wsc=500\n",
        "x=float(input(\"enter the load value\"))\n",
        "(r0,x0)=ef.oc(v0,i0,w0)\n",
        "(r01,x01)=ef.sc(vsc,isc,wsc,v1,v2)\n",
        "\n",
        "def tf(x,pf,r,w0,wsc):\n",
        " efficency=float((x*r*pf)/(x*r*pf+w0+x**2*wsc)*100)\n",
        " cu_losses=float(x**2*wsc)\n",
        " return efficency,cu_losses\n",
        "print(r0,x0)\n",
        "print(r01,x01)\n",
        "efficency,cu_lossess=ef.tf(x,pf,r,w0,wsc)\n",
        "print(\"efficiency and copper losses are :\",efficency,cu_lossess)"
      ]
    },
    {
      "cell_type": "code",
      "source": [
        "#module created as pff\n",
        "\"\"\"import math\n",
        "def oc(v0,i0,w0):\n",
        " npf=float((w0)/(v0*i0))\n",
        " iw=i0*npf\n",
        " r0=float(v0/iw)\n",
        " iv=i0*math.sqrt(1-npf**2)\n",
        " x0=float(v0/iv)\n",
        " return r0,x0\n",
        "\n",
        "def sc(vsc,isc,v2,v1,wsc):\n",
        " k=float(v2/v1)\n",
        " r02=float(wsc/(isc**2))\n",
        " r01=(r02/k**2)\n",
        " z02=float(vsc/isc)\n",
        " x02=math.sqrt(z02*2-r02*2)\n",
        " x01=float(x02/k**2)\n",
        " return r01,x01\n",
        "\n",
        "def tf(x,pf,r,w0,wsc):\n",
        " efficency=float((x*r*pf)/(x*r*pf+w0+x**2*wsc)*100)\n",
        " cu_losses=float(x**2*wsc)\n",
        " return efficency,cu_losses\"\"\""
      ],
      "metadata": {
        "id": "dIQjCm2fQKo-"
      },
      "execution_count": null,
      "outputs": []
    }
  ]
}