{
  "nbformat": 4,
  "nbformat_minor": 0,
  "metadata": {
    "colab": {
      "provenance": [],
      "authorship_tag": "ABX9TyPvaxU2hLpVqvPNx3q2kmFZ",
      "include_colab_link": true
    },
    "kernelspec": {
      "name": "python3",
      "display_name": "Python 3"
    },
    "language_info": {
      "name": "python"
    }
  },
  "cells": [
    {
      "cell_type": "markdown",
      "metadata": {
        "id": "view-in-github",
        "colab_type": "text"
      },
      "source": [
        "<a href=\"https://colab.research.google.com/github/2305A21L52/3rd-year-EEE/blob/main/assignment2.ipynb\" target=\"_parent\"><img src=\"https://colab.research.google.com/assets/colab-badge.svg\" alt=\"Open In Colab\"/></a>"
      ]
    },
    {
      "cell_type": "code",
      "execution_count": null,
      "metadata": {
        "colab": {
          "base_uri": "https://localhost:8080/"
        },
        "id": "w0ptkIXDD_VD",
        "outputId": "36284488-39af-4ff1-d3bd-9496cacf6f07"
      },
      "outputs": [
        {
          "output_type": "stream",
          "name": "stdout",
          "text": [
            "enter the primary voltage value220\n",
            "enter the secondary voltage value440\n",
            "enter the i0 value2\n",
            "enter the v0 value220\n",
            "enter the w0 value250\n",
            "enter the isc value10\n",
            "enter the vsc value75\n",
            "enter the wsc value500\n",
            "enter the rating value5000\n",
            "enter the load value0.25\n",
            "primary voltage= 220.0\n",
            "secondary voltage= 440.0\n",
            "r0= 193.6\n",
            "x0= 324.8817696414951\n",
            "r01= 1.25\n",
            "x01= 0.5590169943749475\n",
            "variable copper losses= 31.25\n",
            "loading of the transformer is: 0.25\n",
            "efficiency 81.63265306122449\n"
          ]
        }
      ],
      "source": [
        "import math\n",
        "import numpy as np\n",
        "pv=float(input(\"enter the primary voltage value\"))\n",
        "sv=float(input(\"enter the secondary voltage value\"))\n",
        "io=float(input(\"enter the i0 value\"))\n",
        "vo=float(input(\"enter the v0 value\"))\n",
        "wo=float(input(\"enter the w0 value\"))\n",
        "isc=float(input(\"enter the isc value\"))\n",
        "vsc=float(input(\"enter the vsc value\"))\n",
        "wsc=float(input(\"enter the wsc value\"))\n",
        "r=float(input(\"enter the rating value\"))\n",
        "x=float(input(\"enter the load value\"))\n",
        "pf=1\n",
        "eff=(r*x*pf)/(r*x*pf+x*x*wsc+wo)*100\n",
        "no_pf=float(wo/(vo*io))\n",
        "iw=io*no_pf\n",
        "r0=vo/iw\n",
        "imu=io*(1-no_pf**2)**1/2\n",
        "x0=vo/imu\n",
        "v_cl=x*x*wsc\n",
        "k=sv/pv\n",
        "r02=wsc/isc**2\n",
        "r01=r02/k**2\n",
        "z02=vsc/isc\n",
        "x02=math.sqrt(z02*2-r02*2)\n",
        "x01=x02/k**2\n",
        "print(\"primary voltage=\",pv)\n",
        "print(\"secondary voltage=\",sv)\n",
        "print(\"r0=\",r0)\n",
        "print(\"x0=\",x0)\n",
        "print(\"r01=\",r01)\n",
        "print(\"x01=\",x01)\n",
        "print(\"variable copper losses=\",v_cl)\n",
        "print(\"loading of the transformer is:\",x)\n",
        "print(\"efficiency\",eff)\n"
      ]
    }
  ]
}