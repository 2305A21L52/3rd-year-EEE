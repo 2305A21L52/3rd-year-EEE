{
  "nbformat": 4,
  "nbformat_minor": 0,
  "metadata": {
    "colab": {
      "provenance": [],
      "authorship_tag": "ABX9TyOhCgOpPX+tAFsWTw8OaCvM",
      "include_colab_link": true
    },
    "kernelspec": {
      "name": "python3",
      "display_name": "Python 3"
    },
    "language_info": {
      "name": "python"
    }
  },
  "cells": [
    {
      "cell_type": "markdown",
      "metadata": {
        "id": "view-in-github",
        "colab_type": "text"
      },
      "source": [
        "<a href=\"https://colab.research.google.com/github/2305A21L52/3rd-year-EEE/blob/main/list.ipynb\" target=\"_parent\"><img src=\"https://colab.research.google.com/assets/colab-badge.svg\" alt=\"Open In Colab\"/></a>"
      ]
    },
    {
      "cell_type": "code",
      "execution_count": 3,
      "metadata": {
        "colab": {
          "base_uri": "https://localhost:8080/"
        },
        "id": "3XJlCCFx6GWy",
        "outputId": "28e54d5b-efd1-4aae-83f4-a5dd745e4ca2"
      },
      "outputs": [
        {
          "output_type": "stream",
          "name": "stdout",
          "text": [
            "['Dharani sri', 'EEE', 'SRU', '2305A21L52']\n"
          ]
        }
      ],
      "source": [
        "stu_list=[\"Dharani sri\",\"EEE\",\"SRU\",\"2305A21L52\"]\n",
        "print(stu_list)"
      ]
    },
    {
      "cell_type": "code",
      "source": [
        "stu_list=[\"Dharani sri\",\"EEE\",\"SRU\",\"2305A21L52\"]\n",
        "stu_list.append(19)\n",
        "print(stu_list)"
      ],
      "metadata": {
        "colab": {
          "base_uri": "https://localhost:8080/"
        },
        "id": "TJwg8EtX-nyA",
        "outputId": "0dec6685-6636-47b4-acbd-c0088a44345e"
      },
      "execution_count": 48,
      "outputs": [
        {
          "output_type": "stream",
          "name": "stdout",
          "text": [
            "['Dharani sri', 'EEE', 'SRU', '2305A21L52', 19]\n"
          ]
        }
      ]
    },
    {
      "cell_type": "code",
      "source": [
        "remove=stu_list.pop(2)\n",
        "print(remove)"
      ],
      "metadata": {
        "colab": {
          "base_uri": "https://localhost:8080/"
        },
        "id": "9pS4-SzrACRA",
        "outputId": "3b1392f7-d2a2-4989-d3cc-e7035aad87a1"
      },
      "execution_count": 49,
      "outputs": [
        {
          "output_type": "stream",
          "name": "stdout",
          "text": [
            "SRU\n"
          ]
        }
      ]
    },
    {
      "cell_type": "code",
      "source": [
        "stu_list=[\"Dharani sri\",\"EEE\",\"SRU\",\"2305A21L52\"]\n",
        "print(stu_list[2])"
      ],
      "metadata": {
        "colab": {
          "base_uri": "https://localhost:8080/"
        },
        "id": "9xAOFjt2_IoJ",
        "outputId": "1538fb6a-2447-49f0-96c5-5b19cd7832f2"
      },
      "execution_count": 50,
      "outputs": [
        {
          "output_type": "stream",
          "name": "stdout",
          "text": [
            "SRU\n"
          ]
        }
      ]
    },
    {
      "cell_type": "code",
      "source": [
        "print(stu_list[0:2])"
      ],
      "metadata": {
        "colab": {
          "base_uri": "https://localhost:8080/"
        },
        "id": "Bwc6_l1XCoLR",
        "outputId": "d6228b25-415c-405e-ccd6-f1ac6e5ce16e"
      },
      "execution_count": 51,
      "outputs": [
        {
          "output_type": "stream",
          "name": "stdout",
          "text": [
            "['Dharani sri', 'EEE']\n"
          ]
        }
      ]
    },
    {
      "cell_type": "code",
      "source": [
        "stu_list=[\"Dharani sri\",\"EEE\",\"SRU\",\"2305A21L52\"]\n",
        "stu_list.insert(2,9392959433)\n",
        "print(stu_list)"
      ],
      "metadata": {
        "colab": {
          "base_uri": "https://localhost:8080/"
        },
        "id": "rPzLsRgBDJ2Q",
        "outputId": "aeb7cd33-7813-4c20-ec68-b290592442f3"
      },
      "execution_count": 52,
      "outputs": [
        {
          "output_type": "stream",
          "name": "stdout",
          "text": [
            "['Dharani sri', 'EEE', 9392959433, 'SRU', '2305A21L52']\n"
          ]
        }
      ]
    },
    {
      "cell_type": "code",
      "source": [
        "stu_list=[\"Dharani sri\",\"EEE\",\"SRU\",\"2305A21L52\"]\n",
        "p=19,9392959433\n",
        "stu_list.extend(p)\n",
        "print(stu_list)"
      ],
      "metadata": {
        "colab": {
          "base_uri": "https://localhost:8080/"
        },
        "id": "QizA20-KEf7y",
        "outputId": "d84beeb9-74b6-43e3-ca5e-3c58e3207530"
      },
      "execution_count": 53,
      "outputs": [
        {
          "output_type": "stream",
          "name": "stdout",
          "text": [
            "['Dharani sri', 'EEE', 'SRU', '2305A21L52', 19, 9392959433]\n"
          ]
        }
      ]
    },
    {
      "cell_type": "code",
      "source": [
        "stu_list.reverse()\n",
        "print(stu_list)"
      ],
      "metadata": {
        "colab": {
          "base_uri": "https://localhost:8080/"
        },
        "id": "-L6sNoXFFq8C",
        "outputId": "e7927d1a-b9b0-4b73-af3a-ceb687d3dd65"
      },
      "execution_count": 55,
      "outputs": [
        {
          "output_type": "stream",
          "name": "stdout",
          "text": [
            "[9392959433, 19, '2305A21L52', 'SRU', 'EEE', 'Dharani sri']\n"
          ]
        }
      ]
    }
  ]
}