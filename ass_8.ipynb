{
  "nbformat": 4,
  "nbformat_minor": 0,
  "metadata": {
    "colab": {
      "provenance": [],
      "authorship_tag": "ABX9TyM45cRkyy9K5xk48OTNb+Vd",
      "include_colab_link": true
    },
    "kernelspec": {
      "name": "python3",
      "display_name": "Python 3"
    },
    "language_info": {
      "name": "python"
    }
  },
  "cells": [
    {
      "cell_type": "markdown",
      "metadata": {
        "id": "view-in-github",
        "colab_type": "text"
      },
      "source": [
        "<a href=\"https://colab.research.google.com/github/2305A21L52/3rd-year-EEE/blob/main/ass_8.ipynb\" target=\"_parent\"><img src=\"https://colab.research.google.com/assets/colab-badge.svg\" alt=\"Open In Colab\"/></a>"
      ]
    },
    {
      "cell_type": "code",
      "source": [
        "#sets"
      ],
      "metadata": {
        "id": "kA-erPorJIF9"
      },
      "execution_count": null,
      "outputs": []
    },
    {
      "cell_type": "code",
      "source": [
        "my_sets={\"Dharani\",\"3rd Year\",\"EEE\",19,True}\n",
        "print(my_sets)"
      ],
      "metadata": {
        "id": "ZMDpzpEAEeIO",
        "colab": {
          "base_uri": "https://localhost:8080/"
        },
        "outputId": "800f863b-62c7-4051-a8b6-f37411fc5bfd"
      },
      "execution_count": null,
      "outputs": [
        {
          "output_type": "stream",
          "name": "stdout",
          "text": [
            "{True, '3rd Year', 19, 'EEE', 'Dharani'}\n"
          ]
        }
      ]
    },
    {
      "cell_type": "code",
      "source": [
        "#to make a sets\n",
        "makeset=set((\"Dharanisri\",2005,False))\n",
        "print(makeset)"
      ],
      "metadata": {
        "id": "8mPhwmWkSK20",
        "colab": {
          "base_uri": "https://localhost:8080/"
        },
        "outputId": "74a1c264-cb92-46c8-d66a-afccfbde7032"
      },
      "execution_count": null,
      "outputs": [
        {
          "output_type": "stream",
          "name": "stdout",
          "text": [
            "{False, 'Dharanisri', 2005}\n"
          ]
        }
      ]
    },
    {
      "cell_type": "code",
      "source": [
        "print(len(my_sets))\n",
        "print(type(my_sets))\n",
        "print(all(my_sets))\n",
        "print(any(my_sets))\n",
        "print(enumerate(my_sets))"
      ],
      "metadata": {
        "id": "rP_0iILsFbO7",
        "colab": {
          "base_uri": "https://localhost:8080/"
        },
        "outputId": "41852d0e-e5b5-4731-daa0-f06708566fdd"
      },
      "execution_count": null,
      "outputs": [
        {
          "output_type": "stream",
          "name": "stdout",
          "text": [
            "5\n",
            "<class 'set'>\n",
            "True\n",
            "True\n",
            "<enumerate object at 0x7bb21a0847c0>\n"
          ]
        }
      ]
    },
    {
      "cell_type": "code",
      "source": [
        "#sets doesn't allows duliplicates\n",
        "Sets={\"Kusuma\",\"Dharani\",\"Sri\",19}\n",
        "print(Sets)"
      ],
      "metadata": {
        "id": "8XM3MtU9R-gc",
        "colab": {
          "base_uri": "https://localhost:8080/"
        },
        "outputId": "79a57870-bc89-412e-8d39-95f64a7fd3a2"
      },
      "execution_count": null,
      "outputs": [
        {
          "output_type": "stream",
          "name": "stdout",
          "text": [
            "{'Sri', 19, 'Kusuma', 'Dharani'}\n"
          ]
        }
      ]
    },
    {
      "cell_type": "code",
      "source": [
        "#but we can access data using for loop\n",
        "for x in my_sets:\n",
        "  print(x)"
      ],
      "metadata": {
        "id": "7UZ3xRvITLdZ",
        "colab": {
          "base_uri": "https://localhost:8080/"
        },
        "outputId": "0017c1d3-0139-4efb-c16f-30894525185e"
      },
      "execution_count": null,
      "outputs": [
        {
          "output_type": "stream",
          "name": "stdout",
          "text": [
            "True\n",
            "3rd Year\n",
            "19\n",
            "EEE\n",
            "Dharani\n"
          ]
        }
      ]
    },
    {
      "cell_type": "code",
      "source": [
        "# addding elements in my_sets\n",
        "my_sets.add(\"14/08/2005\")\n",
        "print(my_sets)"
      ],
      "metadata": {
        "id": "JO-xVm2QG52N",
        "colab": {
          "base_uri": "https://localhost:8080/"
        },
        "outputId": "e53f377e-d844-468f-9a07-0b9cbd9cecaa"
      },
      "execution_count": null,
      "outputs": [
        {
          "output_type": "stream",
          "name": "stdout",
          "text": [
            "{True, '3rd Year', 19, '14/08/2005', 'EEE', 'Dharani'}\n"
          ]
        }
      ]
    },
    {
      "cell_type": "code",
      "source": [
        "# removing elements in my_sets\n",
        "my_sets.remove(\"14/08/2005\")\n",
        "print(my_sets)"
      ],
      "metadata": {
        "id": "4iM0oMCQMAWu",
        "colab": {
          "base_uri": "https://localhost:8080/"
        },
        "outputId": "fd7ed49e-e02e-47b7-be23-9a6b8a94be94"
      },
      "execution_count": null,
      "outputs": [
        {
          "output_type": "stream",
          "name": "stdout",
          "text": [
            "{True, '3rd Year', 19, 'EEE', 'Dharani'}\n"
          ]
        }
      ]
    },
    {
      "cell_type": "code",
      "source": [
        "#update elements in my_sets\n",
        "my_sets.update(\"Lateral\")\n",
        "print(my_sets)"
      ],
      "metadata": {
        "id": "OmkWcufPPlmM",
        "colab": {
          "base_uri": "https://localhost:8080/"
        },
        "outputId": "623469f6-ea2e-4144-b5d6-69ff67945ff7"
      },
      "execution_count": null,
      "outputs": [
        {
          "output_type": "stream",
          "name": "stdout",
          "text": [
            "{True, 'Dharani', 'e', '3rd Year', 19, 't', 'a', 'r', 'l', 'L', 'EEE'}\n"
          ]
        }
      ]
    },
    {
      "cell_type": "code",
      "source": [
        "set1={\"father number\",9674562190,\"others:\",7645321093,9394950164}\n",
        "set2={\"mother number  \",9394950164}\n",
        "setfinal=set1|set2\n",
        "print(setfinal)\n",
        "setintersection=set1&set2\n",
        "print(setintersection)\n",
        "setdifference=set1-set2\n",
        "print(setdifference)\n"
      ],
      "metadata": {
        "id": "q0QUJgevQCAf",
        "colab": {
          "base_uri": "https://localhost:8080/"
        },
        "outputId": "e1c83e89-bdc4-4973-e112-2cfb9a5ef166"
      },
      "execution_count": null,
      "outputs": [
        {
          "output_type": "stream",
          "name": "stdout",
          "text": [
            "{9394950164, 7645321093, 'father number', 'others:', 9674562190, 'mother number  '}\n",
            "{9394950164}\n",
            "{'others:', 9674562190, 7645321093, 'father number'}\n"
          ]
        }
      ]
    },
    {
      "cell_type": "code",
      "source": [
        "#removing elements in my_sets\n",
        "#But as it is unordered as random it remove the lat element in the set\n",
        "my_sets.pop()\n",
        "print(my_sets)"
      ],
      "metadata": {
        "id": "lrJu5JZxUwEJ",
        "colab": {
          "base_uri": "https://localhost:8080/"
        },
        "outputId": "aa9e3a14-7014-4384-ddcc-312c03daadc4"
      },
      "execution_count": null,
      "outputs": [
        {
          "output_type": "stream",
          "name": "stdout",
          "text": [
            "{'Dharani', 'e', '3rd Year', 19, 't', 'a', 'r', 'l', 'L', 'EEE'}\n"
          ]
        }
      ]
    },
    {
      "cell_type": "code",
      "source": [
        "print()"
      ],
      "metadata": {
        "id": "pJQIQfekWbBB",
        "colab": {
          "base_uri": "https://localhost:8080/"
        },
        "outputId": "30cc9a73-1caa-41b2-8b79-92df9ff5cf06"
      },
      "execution_count": null,
      "outputs": [
        {
          "output_type": "stream",
          "name": "stdout",
          "text": [
            "\n"
          ]
        }
      ]
    },
    {
      "cell_type": "markdown",
      "source": [
        "**Pyton** **Dictionaries**"
      ],
      "metadata": {
        "id": "w7rjINpuWHQ7"
      }
    },
    {
      "cell_type": "markdown",
      "source": [
        "In python 3.6 and earlier,dictionaries are unordered\n",
        "\n",
        "as of python version 3.7 ,dictionaries are ordered\n"
      ],
      "metadata": {
        "id": "FsFlOfZzt90Z"
      }
    },
    {
      "cell_type": "code",
      "source": [
        "mydict={\"name\":\"K dharani sri \",\"date of birth\":\"14/08/2005\",\"phone number\":9876543210}\n",
        "print(mydict[\"date of birth\"])"
      ],
      "metadata": {
        "id": "fakcHixFl5pn",
        "colab": {
          "base_uri": "https://localhost:8080/"
        },
        "outputId": "dd6a9b75-68aa-457d-da37-d5a63861a4c0"
      },
      "execution_count": null,
      "outputs": [
        {
          "output_type": "stream",
          "name": "stdout",
          "text": [
            "14/08/2005\n"
          ]
        }
      ]
    },
    {
      "cell_type": "code",
      "source": [
        "print(type(mydict))\n",
        "print(len(mydict))"
      ],
      "metadata": {
        "id": "xLHM5pQawPxX",
        "colab": {
          "base_uri": "https://localhost:8080/"
        },
        "outputId": "98972e48-2542-46d9-944b-365f071876f6"
      },
      "execution_count": null,
      "outputs": [
        {
          "output_type": "stream",
          "name": "stdout",
          "text": [
            "<class 'dict'>\n",
            "3\n"
          ]
        }
      ]
    },
    {
      "cell_type": "code",
      "source": [
        "#accessing data\n",
        "mydict={\"name\":\"K Dharani sri\",\"date of birth\":\"14/08/2005\",\"phone number\":9876543210}\n",
        "x=mydict[\"phone number\"]\n",
        "print(x)\n"
      ],
      "metadata": {
        "id": "oo2c3JsVwaDI",
        "colab": {
          "base_uri": "https://localhost:8080/"
        },
        "outputId": "2d370cd4-bc1c-4941-9f33-ba66b4650ee4"
      },
      "execution_count": null,
      "outputs": [
        {
          "output_type": "stream",
          "name": "stdout",
          "text": [
            "9876543210\n"
          ]
        }
      ]
    },
    {
      "cell_type": "code",
      "source": [
        "#to get keys\n",
        "x=mydict.keys()\n",
        "print(x)\n"
      ],
      "metadata": {
        "id": "rrS2dCjSw2he",
        "colab": {
          "base_uri": "https://localhost:8080/"
        },
        "outputId": "0c27fff7-57f7-4828-f0d8-befd4d0fe3d3"
      },
      "execution_count": null,
      "outputs": [
        {
          "output_type": "stream",
          "name": "stdout",
          "text": [
            "dict_keys(['name', 'date of birth', 'phone number'])\n"
          ]
        }
      ]
    },
    {
      "cell_type": "code",
      "source": [
        "#to get values\n",
        "y=mydict.values()\n",
        "print(y)\n"
      ],
      "metadata": {
        "id": "7WHSyZlJxaUn",
        "colab": {
          "base_uri": "https://localhost:8080/"
        },
        "outputId": "0a429f89-4eba-41db-c7b8-792e670c61c3"
      },
      "execution_count": null,
      "outputs": [
        {
          "output_type": "stream",
          "name": "stdout",
          "text": [
            "dict_values(['K Dharani sri', '14/08/2005', 9876543210])\n"
          ]
        }
      ]
    },
    {
      "cell_type": "code",
      "source": [
        "#to get items\n",
        "z=mydict.items()\n",
        "print(z)"
      ],
      "metadata": {
        "id": "XyjXiXwxxLch",
        "colab": {
          "base_uri": "https://localhost:8080/"
        },
        "outputId": "85078944-c0c8-42f0-9fde-f07bd67fe618"
      },
      "execution_count": null,
      "outputs": [
        {
          "output_type": "stream",
          "name": "stdout",
          "text": [
            "dict_items([('name', 'K Dharani sri'), ('date of birth', '14/08/2005'), ('phone number', 9876543210)])\n"
          ]
        }
      ]
    },
    {
      "cell_type": "code",
      "source": [
        "#check if key exist\n",
        "if \"name\"in mydict:\n",
        "  print(\"yes,'name' is exist in the dict\")"
      ],
      "metadata": {
        "id": "dw2V1pLXvyhC",
        "colab": {
          "base_uri": "https://localhost:8080/"
        },
        "outputId": "7f8ac771-927b-4a77-f60a-7e2cd2688f3b"
      },
      "execution_count": null,
      "outputs": [
        {
          "output_type": "stream",
          "name": "stdout",
          "text": [
            "yes,'name' is exist in the dict\n"
          ]
        }
      ]
    },
    {
      "cell_type": "code",
      "source": [
        "#change values\n",
        "mydict[\"phone number\"]=939291316\n",
        "print(mydict)\n"
      ],
      "metadata": {
        "id": "qLvEZrFWzNUY",
        "colab": {
          "base_uri": "https://localhost:8080/"
        },
        "outputId": "e7037df1-cd22-4bba-ff93-584422d65d99"
      },
      "execution_count": null,
      "outputs": [
        {
          "output_type": "stream",
          "name": "stdout",
          "text": [
            "{'name': 'K Dharani sri', 'date of birth': '14/08/2005', 'phone number': 939291316}\n"
          ]
        }
      ]
    },
    {
      "cell_type": "code",
      "source": [
        "#update dictionaries\n",
        "mydict.update({\"date of birth\":\"03/05/2004\"})\n",
        "print(mydict)"
      ],
      "metadata": {
        "id": "NPYckyI21p47",
        "colab": {
          "base_uri": "https://localhost:8080/"
        },
        "outputId": "aa7854b0-b76e-4b54-8720-32d65cccf64d"
      },
      "execution_count": null,
      "outputs": [
        {
          "output_type": "stream",
          "name": "stdout",
          "text": [
            "{'name': 'K Dharani sri', 'date of birth': '03/05/2004', 'phone number': 939291316}\n"
          ]
        }
      ]
    },
    {
      "cell_type": "code",
      "source": [
        "#adding elements\n",
        "mydict[\"qualification\",\"branch\",\"year\"]=\"b.tech\",\"EEE\",\"3RD year\"\n",
        "print(mydict)"
      ],
      "metadata": {
        "id": "hjprwhnn2DlP",
        "colab": {
          "base_uri": "https://localhost:8080/"
        },
        "outputId": "56ee2437-e53d-4b9f-ad47-778577b97509"
      },
      "execution_count": null,
      "outputs": [
        {
          "output_type": "stream",
          "name": "stdout",
          "text": [
            "{'name': 'K Dharani sri', 'date of birth': '03/05/2004', 'phone number': 939291316, ('qualification', 'branch', 'year'): ('b.tech', 'EEE', '3RD year')}\n"
          ]
        }
      ]
    },
    {
      "cell_type": "code",
      "source": [
        "#removing element\n",
        "del mydict[\"phone number\"]\n",
        "print(mydict)"
      ],
      "metadata": {
        "id": "8ndMspKT2YQs",
        "colab": {
          "base_uri": "https://localhost:8080/"
        },
        "outputId": "16186652-d7a6-45af-d369-66d2e90d5b3c"
      },
      "execution_count": null,
      "outputs": [
        {
          "output_type": "stream",
          "name": "stdout",
          "text": [
            "{'name': 'K Dharani sri', 'date of birth': '03/05/2004', ('qualification', 'branch', 'year'): ('b.tech', 'EEE', '3RD year')}\n"
          ]
        }
      ]
    },
    {
      "cell_type": "code",
      "source": [
        "#pop element\n",
        "mydict.popitem()\n",
        "print(mydict)"
      ],
      "metadata": {
        "id": "npnJd3yo3tyh",
        "colab": {
          "base_uri": "https://localhost:8080/"
        },
        "outputId": "86da4992-0df0-4430-876c-cb8ba0c6bfbf"
      },
      "execution_count": null,
      "outputs": [
        {
          "output_type": "stream",
          "name": "stdout",
          "text": [
            "{'name': 'K Dharani sri', 'date of birth': '03/05/2004'}\n"
          ]
        }
      ]
    },
    {
      "cell_type": "code",
      "source": [
        "for x in mydict:\n",
        "  print(mydict[x])"
      ],
      "metadata": {
        "id": "fwgk2T1Q4CQB",
        "colab": {
          "base_uri": "https://localhost:8080/"
        },
        "outputId": "9c4a584e-a458-483e-8fd1-addb2d52b07d"
      },
      "execution_count": null,
      "outputs": [
        {
          "output_type": "stream",
          "name": "stdout",
          "text": [
            "K Dharani sri\n",
            "03/05/2004\n"
          ]
        }
      ]
    },
    {
      "cell_type": "code",
      "source": [
        "for x in mydict.keys():\n",
        "  print(x)\n",
        "\n",
        "for x in mydict.values():\n",
        "  print(x)\n"
      ],
      "metadata": {
        "id": "-JgS4vCR4OtO",
        "colab": {
          "base_uri": "https://localhost:8080/"
        },
        "outputId": "a36fb40a-6f9a-44d3-b00f-2e888c0e3fcc"
      },
      "execution_count": null,
      "outputs": [
        {
          "output_type": "stream",
          "name": "stdout",
          "text": [
            "name\n",
            "date of birth\n",
            "K Dharani sri\n",
            "03/05/2004\n"
          ]
        }
      ]
    },
    {
      "cell_type": "code",
      "source": [
        "for x,y in mydict.items():\n",
        "  print(x,y)"
      ],
      "metadata": {
        "id": "yMI11hrC4zsW",
        "colab": {
          "base_uri": "https://localhost:8080/"
        },
        "outputId": "f546c4bf-9c30-42de-b672-c8b1f3f4411a"
      },
      "execution_count": null,
      "outputs": [
        {
          "output_type": "stream",
          "name": "stdout",
          "text": [
            "name K Dharani sri\n",
            "date of birth 03/05/2004\n"
          ]
        }
      ]
    }
  ]
}