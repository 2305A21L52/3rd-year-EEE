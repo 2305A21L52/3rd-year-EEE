{
  "cells": [
    {
      "cell_type": "markdown",
      "metadata": {
        "id": "view-in-github",
        "colab_type": "text"
      },
      "source": [
        "<a href=\"https://colab.research.google.com/github/2305A21L52/3rd-year-EEE/blob/main/Assignment4.ipynb\" target=\"_parent\"><img src=\"https://colab.research.google.com/assets/colab-badge.svg\" alt=\"Open In Colab\"/></a>"
      ]
    },
    {
      "cell_type": "code",
      "execution_count": 39,
      "metadata": {
        "colab": {
          "base_uri": "https://localhost:8080/"
        },
        "id": "dEZq3w7D1bDF",
        "outputId": "c4e4c71b-0db9-4b01-dadd-24d91b835865"
      },
      "outputs": [
        {
          "output_type": "stream",
          "name": "stdout",
          "text": [
            "enter the category whether it is domestic,commercial,advertisement board and hordingsdomestic\n",
            "enter the value of present_KWH7183\n",
            "enter the value of previous_KWH7144\n",
            "39.0\n",
            "electricity bill amount is 138.39000000000001 rs\n",
            "present_KWH: 7183.0 KWH\n",
            "previous_KWH: 7144.0 KWH\n",
            "unitsconsumed: 39.0 KWH\n",
            "Energy_Charges: 76.05 Rs\n",
            "Customer_charge: 40 Rs\n",
            "Electricity Duty Charge: 2.34 Rs\n",
            "Bill Amount : 138.39000000000001 Rs\n"
          ]
        }
      ],
      "source": [
        "category=input(\"enter the category whether it is domestic,commercial,advertisement board and hordings\")\n",
        "present_KWH=float(input(\"enter the value of present_KWH\"))\n",
        "previous_KWH=float(input(\"enter the value of previous_KWH\"))\n",
        "unitsconsumed=present_KWH-previous_KWH\n",
        "print(unitsconsumed)\n",
        "\n",
        "if category==\"domestic\":\n",
        " fixed_charge=20\n",
        " ED=0.06*unitsconsumed\n",
        " if unitsconsumed<=50:\n",
        "  EC=unitsconsumed*1.95\n",
        "  CC=40\n",
        "  Bill=(EC+fixed_charge+CC+ED)\n",
        "  print(\"electricity bill amount is\",Bill,\"rs\")\n",
        " elif unitsconsumed<=100:\n",
        "  EC=unitsconsumed*3.10\n",
        "  CC=70\n",
        "  Bill=(EC+fixed_charge+CC+ED)\n",
        "  print(\"electricity bill amount is\",Bill,\"rs\")\n",
        "\n",
        "  if unitsconsumed<=100:\n",
        "   EC=unitsconsumed*3.40\n",
        "  CC=90\n",
        "  Bill=(EC+fixed_charge+CC+ED)\n",
        "  print(\"electricity bill amount is\",Bill,\"rs\")\n",
        "\n",
        " elif unitsconsumed<=200:\n",
        "  EC=unitsconsumed*4.8\n",
        "  CC=90\n",
        "  Bill=(EC+fixed_charge+CC+ED)\n",
        "  print(\"electricity bill amount is\",Bill,\"rs\")\n",
        "\n",
        "  if unitsconsumed<=200:\n",
        "    EC=unitsconsumed*5.10\n",
        "    CC=100\n",
        "    Bill=(EC+fixed_charge+CC+ED)\n",
        "    print(\"electricity bill amount is\",Bill,\"rs\")\n",
        "  elif unitsconsumed<=300:\n",
        "    EC=unitsconsumed*7.70\n",
        "    CC=100\n",
        "    Bill=(EC+fixed_charge+CC+ED)\n",
        "    print(\"electricity bill amount is\",Bill,\"rs\")\n",
        "\n",
        "if category==\"commercial\":\n",
        "  ED=0.06*unitsconsumed\n",
        "  if unitsconsumed<=50:\n",
        "   fixed_charge=60\n",
        "   EC=unitsconsumed*7.00\n",
        "   CC=50\n",
        "   Bill=(EC+fixed_charge+CC+ED)\n",
        "   print(\"electricity bill amount is\",Bill,\"rs\")\n",
        "\n",
        "  if unitsconsumed<=100:\n",
        "    fixed_charges=70\n",
        "    EC=unitsconsumed*8.50\n",
        "    CC=90\n",
        "    Bill=(EC+fixed_charge+CC+ED)\n",
        "    print(\"electricity bill amount is\",Bill,\"rs\")\n",
        "\n",
        "  elif unitsconsumed<=300:\n",
        "    fixed_charges=70\n",
        "    EC=unitsconsumed*8.50\n",
        "    CC=105\n",
        "    Bill=(EC+fixed_charge+CC+ED)\n",
        "    print(\"electricity bill amount is\",Bill,\"rs\")\n",
        "\n",
        "elif category==\"advertisement board and hordings\":\n",
        "  if unitsconsumed<=50:\n",
        "   ED=0.06*unitsconsumed\n",
        "   fixed_charge=70\n",
        "   EC=unitsconsumed*13.00\n",
        "   CC=160\n",
        "   Bill=(EC+fixed_charge+CC+ED)\n",
        "   print(\"electricity bill amount is\",Bill,\"rs\")\n",
        "print(\"present_KWH:\",present_KWH,\"KWH\")\n",
        "print(\"previous_KWH:\",previous_KWH,\"KWH\")\n",
        "print(\"unitsconsumed:\",unitsconsumed,\"KWH\")\n",
        "print(\"Energy_Charges:\",EC,\"Rs\")\n",
        "print(\"Customer_charge:\",CC,\"Rs\")\n",
        "print(\"Electricity Duty Charge:\",ED,\"Rs\")\n",
        "print(\"Bill Amount :\",Bill,\"Rs\")"
      ]
    }
  ],
  "metadata": {
    "colab": {
      "provenance": [],
      "authorship_tag": "ABX9TyNB5FkiFZBjnSkgYhxAwM4i",
      "include_colab_link": true
    },
    "kernelspec": {
      "display_name": "Python 3",
      "name": "python3"
    },
    "language_info": {
      "name": "python"
    }
  },
  "nbformat": 4,
  "nbformat_minor": 0
}