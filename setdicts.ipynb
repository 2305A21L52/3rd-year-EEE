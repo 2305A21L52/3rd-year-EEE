{
  "nbformat": 4,
  "nbformat_minor": 0,
  "metadata": {
    "colab": {
      "private_outputs": true,
      "provenance": [],
      "include_colab_link": true
    },
    "kernelspec": {
      "name": "python3",
      "display_name": "Python 3"
    },
    "language_info": {
      "name": "python"
    }
  },
  "cells": [
    {
      "cell_type": "markdown",
      "metadata": {
        "id": "view-in-github",
        "colab_type": "text"
      },
      "source": [
        "<a href=\"https://colab.research.google.com/github/2305A21L52/3rd-year-EEE/blob/main/setdicts.ipynb\" target=\"_parent\"><img src=\"https://colab.research.google.com/assets/colab-badge.svg\" alt=\"Open In Colab\"/></a>"
      ]
    },
    {
      "cell_type": "markdown",
      "source": [
        "**Sets**"
      ],
      "metadata": {
        "id": "3nN1NWl6ucKu"
      }
    },
    {
      "cell_type": "code",
      "execution_count": null,
      "metadata": {
        "id": "35DwPtHWCY2x"
      },
      "outputs": [],
      "source": [
        "#sets"
      ]
    },
    {
      "cell_type": "code",
      "source": [
        "my_sets={\"Dharani\",\"3rd Year\",\"EEE\",19,True}\n",
        "print(my_sets)"
      ],
      "metadata": {
        "id": "ZMDpzpEAEeIO"
      },
      "execution_count": null,
      "outputs": []
    },
    {
      "cell_type": "code",
      "source": [
        "#to make a sets\n",
        "makeset=set((\"Dharanisri\",2005,False))\n",
        "print(makeset)"
      ],
      "metadata": {
        "id": "8mPhwmWkSK20"
      },
      "execution_count": null,
      "outputs": []
    },
    {
      "cell_type": "code",
      "source": [
        "print(len(my_sets))\n",
        "print(type(my_sets))\n",
        "print(all(my_sets))\n",
        "print(any(my_sets))\n",
        "print(enumerate(my_sets))"
      ],
      "metadata": {
        "id": "rP_0iILsFbO7"
      },
      "execution_count": null,
      "outputs": []
    },
    {
      "cell_type": "code",
      "source": [
        "#sets doesn't allows duliplicates\n",
        "Sets={\"Kusuma\",\"Dharani\",\"Sri\",19}\n",
        "print(Sets)"
      ],
      "metadata": {
        "id": "8XM3MtU9R-gc"
      },
      "execution_count": null,
      "outputs": []
    },
    {
      "cell_type": "code",
      "source": [
        "#range is can't defined because it not sequencial like list and tuple\n",
        "print(my_sets[0])\n",
        "print(my_sets[0:3])"
      ],
      "metadata": {
        "id": "ILOSyO6RGmW0"
      },
      "execution_count": null,
      "outputs": []
    },
    {
      "cell_type": "code",
      "source": [
        "#but we can access data using for loop\n",
        "for x in my_sets:\n",
        "  print(x)"
      ],
      "metadata": {
        "id": "7UZ3xRvITLdZ"
      },
      "execution_count": null,
      "outputs": []
    },
    {
      "cell_type": "code",
      "source": [
        "# addding elements in my_sets\n",
        "my_sets.add(\"03/05/2005\")\n",
        "print(my_sets)"
      ],
      "metadata": {
        "id": "JO-xVm2QG52N"
      },
      "execution_count": null,
      "outputs": []
    },
    {
      "cell_type": "code",
      "source": [
        "# removing elements in my_sets\n",
        "my_sets.remove(\"03/05/2005\")\n",
        "print(my_sets)"
      ],
      "metadata": {
        "id": "4iM0oMCQMAWu"
      },
      "execution_count": null,
      "outputs": []
    },
    {
      "cell_type": "code",
      "source": [
        "#update elements in my_sets\n",
        "my_sets.update(\"Lateral\")\n",
        "print(my_sets)"
      ],
      "metadata": {
        "id": "OmkWcufPPlmM"
      },
      "execution_count": null,
      "outputs": []
    },
    {
      "cell_type": "code",
      "source": [
        "set1={\"father number\",9674562190,\"others:\",7645321093,9394950164}\n",
        "set2={\"mother number  \",9394950164}\n",
        "setfinal=set1|set2\n",
        "print(setfinal)\n",
        "setintersection=set1&set2\n",
        "print(setintersection)\n",
        "setdifference=set1-set2\n",
        "print(setdifference)\n"
      ],
      "metadata": {
        "id": "q0QUJgevQCAf"
      },
      "execution_count": null,
      "outputs": []
    },
    {
      "cell_type": "code",
      "source": [
        "#removing elements in my_sets\n",
        "#But as it is unordered as random it remove the lat element in the set\n",
        "my_sets.pop()\n",
        "print(my_sets)"
      ],
      "metadata": {
        "id": "lrJu5JZxUwEJ"
      },
      "execution_count": null,
      "outputs": []
    },
    {
      "cell_type": "code",
      "source": [
        "print()"
      ],
      "metadata": {
        "id": "pJQIQfekWbBB"
      },
      "execution_count": null,
      "outputs": []
    },
    {
      "cell_type": "markdown",
      "source": [
        "**Pyton** **Dictionaries**"
      ],
      "metadata": {
        "id": "w7rjINpuWHQ7"
      }
    },
    {
      "cell_type": "markdown",
      "source": [
        "In python 3.6 and earlier,dictionaries are unordered\n",
        "\n",
        "as of python version 3.7 ,dictionaries are ordered\n"
      ],
      "metadata": {
        "id": "FsFlOfZzt90Z"
      }
    },
    {
      "cell_type": "code",
      "source": [
        "mydict={\"name\":\"K dharani sri \",\"date of birth\":\"14/08/2005\",\"phone number\":9876543210}\n",
        "print(mydict[\"date of birth\"])"
      ],
      "metadata": {
        "id": "fakcHixFl5pn"
      },
      "execution_count": null,
      "outputs": []
    },
    {
      "cell_type": "code",
      "source": [
        "print(type(mydict))\n",
        "print(len(mydict))"
      ],
      "metadata": {
        "id": "xLHM5pQawPxX"
      },
      "execution_count": null,
      "outputs": []
    },
    {
      "cell_type": "code",
      "source": [
        "#accessing data\n",
        "mydict={\"name\":\"K Dharani sri\",\"date of birth\":\"14/08/2005\",\"phone number\":9876543210}\n",
        "x=mydict[\"phone number\"]\n",
        "print(x)\n"
      ],
      "metadata": {
        "id": "oo2c3JsVwaDI"
      },
      "execution_count": null,
      "outputs": []
    },
    {
      "cell_type": "code",
      "source": [
        "#to get keys\n",
        "x=mydict.keys()\n",
        "print(x)\n"
      ],
      "metadata": {
        "id": "rrS2dCjSw2he"
      },
      "execution_count": null,
      "outputs": []
    },
    {
      "cell_type": "code",
      "source": [
        "#to get values\n",
        "y=mydict.values()\n",
        "print(y)\n"
      ],
      "metadata": {
        "id": "7WHSyZlJxaUn"
      },
      "execution_count": null,
      "outputs": []
    },
    {
      "cell_type": "code",
      "source": [
        "#to get items\n",
        "z=mydict.items()\n",
        "print(z)"
      ],
      "metadata": {
        "id": "XyjXiXwxxLch"
      },
      "execution_count": null,
      "outputs": []
    },
    {
      "cell_type": "code",
      "source": [
        "#check if key exist\n",
        "if \"name\"in mydict:\n",
        "  print(\"yes,'name' is exist in the dict\")"
      ],
      "metadata": {
        "id": "dw2V1pLXvyhC"
      },
      "execution_count": null,
      "outputs": []
    },
    {
      "cell_type": "code",
      "source": [
        "#change values\n",
        "mydict[\"phone number\"]=939291316\n",
        "print(mydict)\n"
      ],
      "metadata": {
        "id": "qLvEZrFWzNUY"
      },
      "execution_count": null,
      "outputs": []
    },
    {
      "cell_type": "code",
      "source": [
        "#update dictionaries\n",
        "mydict.update({\"date of birth\":\"03/05/2004\"})\n",
        "print(mydict)"
      ],
      "metadata": {
        "id": "NPYckyI21p47"
      },
      "execution_count": null,
      "outputs": []
    },
    {
      "cell_type": "code",
      "source": [
        "#adding elements\n",
        "mydict[\"qualification\",\"branch\",\"year\"]=\"b.tech\",\"EEE\",\"3RD year\"\n",
        "print(mydict)"
      ],
      "metadata": {
        "id": "hjprwhnn2DlP"
      },
      "execution_count": null,
      "outputs": []
    },
    {
      "cell_type": "code",
      "source": [
        "#removing element\n",
        "del mydict[\"phone number\"]\n",
        "print(mydict)"
      ],
      "metadata": {
        "id": "8ndMspKT2YQs"
      },
      "execution_count": null,
      "outputs": []
    },
    {
      "cell_type": "code",
      "source": [
        "#pop element\n",
        "mydict.popitem()\n",
        "print(mydict)"
      ],
      "metadata": {
        "id": "npnJd3yo3tyh"
      },
      "execution_count": null,
      "outputs": []
    },
    {
      "cell_type": "code",
      "source": [
        "for x in mydict:\n",
        "  print(mydict[x])"
      ],
      "metadata": {
        "id": "fwgk2T1Q4CQB"
      },
      "execution_count": null,
      "outputs": []
    },
    {
      "cell_type": "code",
      "source": [
        "for x in mydict.keys():\n",
        "  print(x)\n",
        "\n",
        "for x in mydict.values():\n",
        "  print(x)\n"
      ],
      "metadata": {
        "id": "-JgS4vCR4OtO"
      },
      "execution_count": null,
      "outputs": []
    },
    {
      "cell_type": "code",
      "source": [
        "for x,y in mydict.items():\n",
        "  print(x,y)"
      ],
      "metadata": {
        "id": "yMI11hrC4zsW"
      },
      "execution_count": null,
      "outputs": []
    }
  ]
}