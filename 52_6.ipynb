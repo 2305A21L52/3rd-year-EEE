{
  "cells": [
    {
      "cell_type": "markdown",
      "metadata": {
        "id": "view-in-github",
        "colab_type": "text"
      },
      "source": [
        "<a href=\"https://colab.research.google.com/github/2305A21L52/3rd-year-EEE/blob/main/52_6.ipynb\" target=\"_parent\"><img src=\"https://colab.research.google.com/assets/colab-badge.svg\" alt=\"Open In Colab\"/></a>"
      ]
    },
    {
      "cell_type": "code",
      "execution_count": 1,
      "metadata": {
        "colab": {
          "base_uri": "https://localhost:8080/"
        },
        "id": "8jTVk2niydK3",
        "outputId": "d371c6f5-f90b-4293-a625-9aefabb57922"
      },
      "outputs": [
        {
          "output_type": "stream",
          "name": "stdout",
          "text": [
            "++++++\n",
            "+++++\n",
            "++++\n",
            "+++\n",
            "++\n",
            "+\n",
            "\n"
          ]
        }
      ],
      "source": [
        "a=7\n",
        "for b in range (a):\n",
        "  for c in range (1,a-b):\n",
        "   print(\"+\",end=\"\")\n",
        "  print()"
      ]
    },
    {
      "cell_type": "code",
      "execution_count": 3,
      "metadata": {
        "colab": {
          "base_uri": "https://localhost:8080/"
        },
        "id": "rN-cvyeO1Uvx",
        "outputId": "c3ab23b2-e677-4c05-ad5a-73e901a68fbe"
      },
      "outputs": [
        {
          "output_type": "stream",
          "name": "stdout",
          "text": [
            "*\n",
            "**\n",
            "***\n",
            "****\n",
            "*****\n",
            "******\n",
            "*******\n"
          ]
        }
      ],
      "source": [
        "a=7\n",
        "for b in range (a):\n",
        "  for c in range (1,b+2):\n",
        "   print(\"*\",end=\"\")\n",
        "  print()"
      ]
    },
    {
      "cell_type": "code",
      "source": [
        "\n",
        "a = 5\n",
        "for b in range (1,6):\n",
        "  for c in range (a-b):\n",
        "    print(' ', end = ' ')\n",
        "\n",
        "  for b in range (b):\n",
        "      print('*',end=' ')\n",
        "\n",
        "  print('')"
      ],
      "metadata": {
        "colab": {
          "base_uri": "https://localhost:8080/"
        },
        "id": "nNUdfiMBx_8O",
        "outputId": "627d2313-57f5-465f-dc77-907f6168cc82"
      },
      "execution_count": 6,
      "outputs": [
        {
          "output_type": "stream",
          "name": "stdout",
          "text": [
            "        * \n",
            "      * * \n",
            "    * * * \n",
            "  * * * * \n",
            "* * * * * \n"
          ]
        }
      ]
    },
    {
      "cell_type": "code",
      "source": [
        "\n",
        "a = 6\n",
        "for b in range (6,0,-1):\n",
        "  for c in range (a-b):\n",
        "    print(' ', end = ' ')\n",
        "\n",
        "  for c in range (b):\n",
        "      print('+',end=' ')\n",
        "\n",
        "  print('')"
      ],
      "metadata": {
        "colab": {
          "base_uri": "https://localhost:8080/"
        },
        "id": "yQ_b6F_GyXY4",
        "outputId": "47b284fa-eef2-428e-d185-92ce72e6ffce"
      },
      "execution_count": 7,
      "outputs": [
        {
          "output_type": "stream",
          "name": "stdout",
          "text": [
            "+ + + + + + \n",
            "  + + + + + \n",
            "    + + + + \n",
            "      + + + \n",
            "        + + \n",
            "          + \n"
          ]
        }
      ]
    }
  ],
  "metadata": {
    "colab": {
      "provenance": [],
      "include_colab_link": true
    },
    "kernelspec": {
      "display_name": "Python 3",
      "name": "python3"
    },
    "language_info": {
      "name": "python"
    }
  },
  "nbformat": 4,
  "nbformat_minor": 0
}